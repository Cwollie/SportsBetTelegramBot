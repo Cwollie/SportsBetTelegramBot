{
 "cells": [
  {
   "cell_type": "code",
   "execution_count": null,
   "id": "aae26c6f-e991-4953-834d-7c458176810f",
   "metadata": {},
   "outputs": [],
   "source": [
    "import requests\n",
    "from urllib.request import urlopen\n",
    "import urllib\n",
    "\n",
    "#telegram bot ids\n",
    "group_chat_id = ''\n",
    "bot_token = ''\n",
    "\n",
    "def telegram_bot_sendtext(chat_id, message):\n",
    "\n",
    "    send_text = 'https://api.telegram.org/bot' + bot_token + '/sendMessage?chat_id=' + chat_id + '&parse_mode=Markdown&text=' + message\n",
    "    send_confirm = 'https://api.telegram.org/bot' + bot_token + '/sendMessage?chat_id=' + chat_id + '&parse_mode=Markdown&text=' + message\n",
    "    \n",
    "    response = requests.get(send_text)\n",
    "    return response.json()\n"
   ]
  },
  {
   "cell_type": "code",
   "execution_count": null,
   "id": "bc6470ed-8776-422d-8c77-3d2ae46effbe",
   "metadata": {},
   "outputs": [],
   "source": [
    "import nbimporter\n",
    "import json\n",
    "import requests\n",
    "import time\n",
    "\n",
    "import undetected_chromedriver as webdriver\n",
    "from selenium.webdriver.common.by import By\n",
    "\n",
    "#startup\n",
    "driver = webdriver.Chrome()\n",
    "driver.get(\"https://www.sportsbet.com.au/\")\n",
    "\n"
   ]
  },
  {
   "cell_type": "code",
   "execution_count": null,
   "id": "2ecd0e93-667f-4a2e-931f-f61954771462",
   "metadata": {},
   "outputs": [],
   "source": [
    "\n"
   ]
  },
  {
   "cell_type": "code",
   "execution_count": null,
   "id": "b13e9108-36ee-4c20-96a0-27c26c75e41d",
   "metadata": {},
   "outputs": [],
   "source": [
    "def login():\n",
    "        ####SPORTSBET\n",
    "    time.sleep(5)\n",
    "    driver.find_element(By.XPATH, \"//button[@data-automation-id='header-login-touchable']\").click()\n",
    "    time.sleep(3)\n",
    "    driver.find_element(By.XPATH, \"//input[@id='username']\").send_keys(\"\")\n",
    "    driver.find_element(By.XPATH, \"//input[@id='password']\").send_keys(\"\")\n",
    "    time.sleep(5)\n",
    "    driver.find_element(By.XPATH,\"//div[@data-automation-id='login-button']\").click()\n",
    "    \n",
    "    \n",
    "login()"
   ]
  },
  {
   "cell_type": "code",
   "execution_count": null,
   "id": "a174bd3d-077e-43be-bcbe-6301be4833af",
   "metadata": {},
   "outputs": [],
   "source": []
  },
  {
   "cell_type": "code",
   "execution_count": null,
   "id": "5a6d86e5-09b9-4ade-882c-2b7510c351e5",
   "metadata": {},
   "outputs": [],
   "source": [
    "def get_recent_bet():\n",
    "    try:\n",
    "        runner = driver.find_element(By.XPATH, f'//div[@class=\"headerContainer_f156rtj3\"]').text\n",
    "        race = driver.find_element(By.XPATH, f'//div[@class=\"extraBetInfo_f1p2l0mx\"]').text\n",
    "\n",
    "        runner, race = runner.replace(\"\\n\", \" \"), race.replace(\"\\n\", \" \")\n",
    "        runner = runner.split(\" •\", 1)[0]\n",
    "\n",
    "\n",
    "    except:\n",
    "         runner, race = \"\", \"\"\n",
    "    \n",
    "    return runner, race\n",
    "\n"
   ]
  },
  {
   "cell_type": "code",
   "execution_count": null,
   "id": "f5f1ebad-6d08-40f1-8405-8f428cf76dfd",
   "metadata": {},
   "outputs": [],
   "source": [
    "from telegram import InlineKeyboardButton, InlineKeyboardMarkup, Update\n",
    "\n",
    "prev_check = \"\"\n",
    "\n",
    "while True:\n",
    "    reply_markup = \"\"\n",
    "    driver.get(\"https://www.sportsbet.com.au/account/bet_history\")\n",
    "    time.sleep(3)\n",
    "\n",
    "    runner, race = get_recent_bet()\n",
    "    \n",
    "    if runner == prev_check:\n",
    "        message = \"\"\n",
    "    elif (runner != \"\") or runner != null:\n",
    "        message = f\"\"\"\n",
    "Runner: \n",
    "{runner}\n",
    "        \n",
    "Race: \n",
    "{race}\"\"\"\n",
    "        telegram_bot_sendtext(group_chat_id, message)\n",
    "        \n",
    "    else:\n",
    "        message = \"\"\n",
    "        \n",
    "    prev_check = runner\n",
    "    \n",
    "\n",
    "    "
   ]
  },
  {
   "cell_type": "code",
   "execution_count": null,
   "id": "05f9918a-1954-4340-8d63-9a701da72ee8",
   "metadata": {},
   "outputs": [],
   "source": []
  },
  {
   "cell_type": "code",
   "execution_count": null,
   "id": "5f6e4338-02bb-4d54-9cc3-8e2b7c90e2cb",
   "metadata": {},
   "outputs": [],
   "source": []
  },
  {
   "cell_type": "code",
   "execution_count": null,
   "id": "711a2a4c-08ae-46b8-9ed0-c18a613a95c1",
   "metadata": {},
   "outputs": [],
   "source": []
  }
 ],
 "metadata": {
  "kernelspec": {
   "display_name": "Python 3 (ipykernel)",
   "language": "python",
   "name": "python3"
  },
  "language_info": {
   "codemirror_mode": {
    "name": "ipython",
    "version": 3
   },
   "file_extension": ".py",
   "mimetype": "text/x-python",
   "name": "python",
   "nbconvert_exporter": "python",
   "pygments_lexer": "ipython3",
   "version": "3.7.16"
  }
 },
 "nbformat": 4,
 "nbformat_minor": 5
}
